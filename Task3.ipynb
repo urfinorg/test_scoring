{
 "cells": [
  {
   "cell_type": "markdown",
   "metadata": {},
   "source": [
    "## Задание 3"
   ]
  },
  {
   "cell_type": "markdown",
   "metadata": {},
   "source": [
    "Данные:\n",
    "Имеются две модели, предсказывающие вероятность дефолта клиента и фактические наблюдения данного события (1 - факт дефолта клиента, 0 - отсутствие  дефолта клиента)\n",
    "\n",
    "Задача:\n",
    "Предложите метрику качества, позволяющую сравнить эти модели и выбрать наилучшую на основе представленных данных.  Также желательно предоставить графическую интерпретацию полученных результатов\n",
    "\n",
    "*PD (Probability of default) - вероятность дефолта.\n"
   ]
  },
  {
   "cell_type": "code",
   "execution_count": 5,
   "metadata": {},
   "outputs": [
    {
     "name": "stdout",
     "output_type": "stream",
     "text": [
      "y      311\n",
      "pd1    311\n",
      "pd2    311\n",
      "dtype: int64\n"
     ]
    },
    {
     "data": {
      "text/html": [
       "<div>\n",
       "<style scoped>\n",
       "    .dataframe tbody tr th:only-of-type {\n",
       "        vertical-align: middle;\n",
       "    }\n",
       "\n",
       "    .dataframe tbody tr th {\n",
       "        vertical-align: top;\n",
       "    }\n",
       "\n",
       "    .dataframe thead th {\n",
       "        text-align: right;\n",
       "    }\n",
       "</style>\n",
       "<table border=\"1\" class=\"dataframe\">\n",
       "  <thead>\n",
       "    <tr style=\"text-align: right;\">\n",
       "      <th></th>\n",
       "      <th>y</th>\n",
       "      <th>pd1</th>\n",
       "      <th>pd2</th>\n",
       "    </tr>\n",
       "  </thead>\n",
       "  <tbody>\n",
       "    <tr>\n",
       "      <th>0</th>\n",
       "      <td>0</td>\n",
       "      <td>0.409821</td>\n",
       "      <td>0.526825</td>\n",
       "    </tr>\n",
       "    <tr>\n",
       "      <th>1</th>\n",
       "      <td>0</td>\n",
       "      <td>0.576899</td>\n",
       "      <td>0.606770</td>\n",
       "    </tr>\n",
       "    <tr>\n",
       "      <th>2</th>\n",
       "      <td>0</td>\n",
       "      <td>0.470889</td>\n",
       "      <td>0.499478</td>\n",
       "    </tr>\n",
       "    <tr>\n",
       "      <th>3</th>\n",
       "      <td>0</td>\n",
       "      <td>0.256406</td>\n",
       "      <td>0.334723</td>\n",
       "    </tr>\n",
       "    <tr>\n",
       "      <th>4</th>\n",
       "      <td>0</td>\n",
       "      <td>0.324825</td>\n",
       "      <td>0.403021</td>\n",
       "    </tr>\n",
       "  </tbody>\n",
       "</table>\n",
       "</div>"
      ],
      "text/plain": [
       "   y       pd1       pd2\n",
       "0  0  0.409821  0.526825\n",
       "1  0  0.576899  0.606770\n",
       "2  0  0.470889  0.499478\n",
       "3  0  0.256406  0.334723\n",
       "4  0  0.324825  0.403021"
      ]
     },
     "execution_count": 5,
     "metadata": {},
     "output_type": "execute_result"
    }
   ],
   "source": [
    "#Подключаем необходимые библиотеки\n",
    "import pandas as pd\n",
    "import numpy as np\n",
    "import seaborn as sns\n",
    "\n",
    "import scipy.stats as stats\n",
    "\n",
    "import matplotlib.pyplot as plt\n",
    "\n",
    "import sklearn.metrics as metrics\n",
    "\n",
    "#Загружаем данные, удостоверяемся, что загрузилось верно \n",
    "data = pd.read_csv('part3_data.csv', delimiter=\";\", decimal=',')\n",
    "#data.info()\n",
    "\n",
    "print(data.count())\n",
    "data.head(5)"
   ]
  },
  {
   "cell_type": "markdown",
   "metadata": {},
   "source": [
    "### Решение :"
   ]
  },
  {
   "cell_type": "code",
   "execution_count": 7,
   "metadata": {},
   "outputs": [],
   "source": [
    "#В качестве меры ошибки оценки качества бинарных моделей предпочтительной метрикой является ROC-AUC  \n",
    "#дополнительно RMSE  CrossEntropyLoss\n",
    "\n",
    "#Переходим к векторам\n",
    "y = data['y'].to_numpy()\n",
    "pd1, pd2 = data['pd1'].to_numpy(), data['pd2'].to_numpy() "
   ]
  },
  {
   "cell_type": "code",
   "execution_count": 20,
   "metadata": {},
   "outputs": [
    {
     "name": "stdout",
     "output_type": "stream",
     "text": [
      "RMSE1 : 0.4732   RMSE2 : 0.5085\n"
     ]
    }
   ],
   "source": [
    "# RMSE\n",
    "n = y.shape[0] \n",
    "\n",
    "rmse1 = np.sqrt( (np.sum( (y - pd1)**2) / n ))\n",
    "rmse2 = np.sqrt( (np.sum( (y - pd2)**2) / n ))\n",
    "print('RMSE1 : {:.4f}   RMSE2 : {:.4f}'.format(rmse1, rmse2))"
   ]
  },
  {
   "cell_type": "code",
   "execution_count": 21,
   "metadata": {},
   "outputs": [
    {
     "name": "stdout",
     "output_type": "stream",
     "text": [
      "CEL1 : 0.6394   CEL2 : 0.7260\n"
     ]
    }
   ],
   "source": [
    "# CrossEntropyLoss\n",
    "\n",
    "cel1 = metrics.log_loss(y, pd1)\n",
    "cel2 = metrics.log_loss(y, pd2)\n",
    "\n",
    "print('CEL1 : {:.4f}   CEL2 : {:.4f}'.format(cel1, cel2))"
   ]
  },
  {
   "cell_type": "code",
   "execution_count": 22,
   "metadata": {},
   "outputs": [
    {
     "name": "stdout",
     "output_type": "stream",
     "text": [
      "AUC1: 0.7014    AUC2: 0.6124\n"
     ]
    }
   ],
   "source": [
    "# AUC ROC\n",
    "\n",
    "auc1 = metrics.roc_auc_score(y, pd1)\n",
    "auc2 = metrics.roc_auc_score(y, pd2)\n",
    "print('AUC1: {:.4f}    AUC2: {:.4f}'.format(auc1, auc2))"
   ]
  },
  {
   "cell_type": "code",
   "execution_count": 29,
   "metadata": {},
   "outputs": [
    {
     "data": {
      "image/png": "[encoded data removed]",
      "text/plain": [
       "<Figure size 360x360 with 1 Axes>"
      ]
     },
     "metadata": {
      "needs_background": "light"
     },
     "output_type": "display_data"
    }
   ],
   "source": [
    "# AUC ROC PLOT\n",
    "# Также желательно предоставить графическую интерпретацию полученных результатов\n",
    "\n",
    "fpr1, tpr1, thresholds1 = metrics.roc_curve(y, pd1)\n",
    "fpr2, tpr2, thresholds2 = metrics.roc_curve(y, pd2)\n",
    "\n",
    "auc1, auc2 = np.trapz(tpr1, fpr1), np.trapz(tpr2, fpr2)\n",
    "\n",
    "fig, axs = plt.subplots( figsize=(5,5))\n",
    "\n",
    "roc1, = axs.plot(fpr1, tpr1, label=\"ROC of model 1, AUC: {:.4f}\".format(auc1) )\n",
    "roc2, = axs.plot(fpr2, tpr2, label=\"ROC of model 2, AUC: {:.4f}\".format(auc2) )\n",
    "\n",
    "plt.title('ROC`s')\n",
    "plt.plot([0,1], [0,1], dashes=[5,3])\n",
    "plt.xlim([0,1]); plt.ylim([0,1])\n",
    "\n",
    "plt.legend( handles=[roc1, roc2], loc = 'lower right',)\n",
    "plt.show()"
   ]
  },
  {
   "cell_type": "code",
   "execution_count": 33,
   "metadata": {},
   "outputs": [
    {
     "name": "stdout",
     "output_type": "stream",
     "text": [
      "     model error_metric     value\n",
      "2  model 1          auc  0.701381\n",
      "1  model 1          cel  0.639422\n",
      "0  model 1         rmse  0.473222\n",
      "5  model 2          auc  0.612375\n",
      "4  model 2          cel  0.726018\n",
      "3  model 2         rmse  0.508513\n"
     ]
    }
   ],
   "source": [
    "# сводная таблица результатов\n",
    "n_data = [('model 1', 'rmse',  rmse1) ,\n",
    "          ('model 1', 'cel',  cel1) ,\n",
    "          ('model 1', 'auc',  auc1) ,\n",
    "          ('model 2', 'rmse', rmse2),\n",
    "          ('model 2', 'cel', cel2),\n",
    "          ('model 2', 'auc',  auc2) ,\n",
    "         ]\n",
    "\n",
    "columns = ['model', 'error_metric', 'value', ]\n",
    "\n",
    "df = pd.DataFrame(n_data, columns=columns)\n",
    "print(df.sort_values(['model','error_metric']))"
   ]
  },
  {
   "cell_type": "code",
   "execution_count": 34,
   "metadata": {},
   "outputs": [
    {
     "data": {
      "image/png": "[encoded data removed]",
      "text/plain": [
       "<Figure size 720x432 with 3 Axes>"
      ]
     },
     "metadata": {
      "needs_background": "light"
     },
     "output_type": "display_data"
    }
   ],
   "source": [
    "# \n",
    "fig, axs = plt.subplots(ncols=3, figsize=(10,6))\n",
    "\n",
    "fig.suptitle(\"Сводный график сравнения моделей и метрик их ошибок\", fontsize=16, fontweight='bold') \n",
    "\n",
    "sns.barplot(x='model', y='value', data=df[df['error_metric']=='rmse'], ax=axs[0])\n",
    "sns.barplot(x='model', y='value', data=df[df['error_metric']=='cel'], ax=axs[1])\n",
    "sns.barplot(x='model', y='value', data=df[df['error_metric']=='auc'], ax=axs[2])\n",
    "\n",
    "for sub_axs in axs:\n",
    "    sub_axs.set_ylabel('');\n",
    "\n",
    "axs[0].set_xlabel('RSME', fontsize=14); \n",
    "axs[1].set_xlabel('CrossEntropyLoss' , fontsize=14)\n",
    "axs[2].set_xlabel('AUC', fontsize=14)\n",
    "\n",
    "plt.show(fig)"
   ]
  },
  {
   "cell_type": "code",
   "execution_count": null,
   "metadata": {},
   "outputs": [],
   "source": [
    "# График демонстрирует что, результаты прогноза модели №1 точнее чем у модели№ 2, \n",
    "# поэтому модель № 1 будет являться более предпочтительной"
   ]
  }
 ],
 "metadata": {
  "kernelspec": {
   "display_name": "Python 3",
   "language": "python",
   "name": "python3"
  },
  "language_info": {
   "codemirror_mode": {
    "name": "ipython",
    "version": 3
   },
   "file_extension": ".py",
   "mimetype": "text/x-python",
   "name": "python",
   "nbconvert_exporter": "python",
   "pygments_lexer": "ipython3",
   "version": "3.7.4"
  }
 },
 "nbformat": 4,
 "nbformat_minor": 2
}
