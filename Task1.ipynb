{
 "cells": [
  {
   "cell_type": "markdown",
   "metadata": {},
   "source": [
    "Для решения предложенных заданий используются JupyterLab, Python, numpy, Pandas, scikit-learn, PyTorch, matplotlib, seaborn. \n",
    "\n",
    "Предавительно все данные экспортировальсь из Excel в CSV файлы(приложенны в архив). <br>\n",
    "part1_data.csv - Данные задания №1<br>\n",
    "part2_data.csv - Данные задания №2<br>\n",
    "part3_data.csv - Данные задания №3<br>\n",
    "part5_data.csv - Данные задания №5<br>\n"
   ]
  },
  {
   "cell_type": "markdown",
   "metadata": {},
   "source": [
    "## Задание 1"
   ]
  },
  {
   "cell_type": "markdown",
   "metadata": {},
   "source": [
    "\n",
    "Задача 1\n",
    "\n",
    "В соответствии со стандартами обслуживания  клиентов среднее время ожидания клиентом ответа оператора не должно превышать 20 секунд. Для проверки качества обслуживания клиентов была проанализирована выборка из 30 звонков. На основе представленных данных можно ли утверждать, что  среднее время ожидания ответа оператора возросло и составляет более 20 секунд (допуская, что данные в генеральной совокупности имеют нормальное распределение).\n",
    "\n",
    "Задача 2\n",
    "\n",
    "Предположим, что необходимо оценить текущее среднее значение времени ответа оператора с точностью +/- 2 секунды и построить 95% доверительный интервал для этой величины. Определите, требуемый для этого объем выборки.\n"
   ]
  },
  {
   "cell_type": "code",
   "execution_count": 1,
   "metadata": {},
   "outputs": [
    {
     "data": {
      "text/plain": [
       "Index(['ind', 'time'], dtype='object')"
      ]
     },
     "execution_count": 1,
     "metadata": {},
     "output_type": "execute_result"
    }
   ],
   "source": [
    "#Подключаем необходимые библиотеки\n",
    "import pandas as pd\n",
    "import numpy as np\n",
    "import seaborn as sns\n",
    "import scipy as csipy\n",
    "\n",
    "#Загружаем данные, удостоверяемся, что загрузилось верно \n",
    "data = pd.read_csv('part1_data.csv', delimiter=\";\")\n",
    "#data.info()\n",
    "#data.head(5)\n",
    "#data.count()\n",
    "data.columns"
   ]
  },
  {
   "cell_type": "markdown",
   "metadata": {},
   "source": [
    "### Решение задачи 1:"
   ]
  },
  {
   "cell_type": "code",
   "execution_count": 2,
   "metadata": {},
   "outputs": [
    {
     "name": "stdout",
     "output_type": "stream",
     "text": [
      "Среднее значение времемя ожидания клиента: 22.8333\n"
     ]
    }
   ],
   "source": [
    "#Среднее время ответа оператора\n",
    "mean = data['time'].mean()\n",
    "print('Среднее значение времемя ожидания клиента: {:.4f}'.format(mean))"
   ]
  },
  {
   "cell_type": "code",
   "execution_count": 3,
   "metadata": {},
   "outputs": [
    {
     "data": {
      "text/plain": [
       "<matplotlib.axes._subplots.AxesSubplot at 0x7f23a7524f50>"
      ]
     },
     "execution_count": 3,
     "metadata": {},
     "output_type": "execute_result"
    },
    {
     "data": {
      "image/png": "[encoded data removed]",
      "text/plain": [
       "<Figure size 432x288 with 1 Axes>"
      ]
     },
     "metadata": {
      "needs_background": "light"
     },
     "output_type": "display_data"
    }
   ],
   "source": [
    "# построим график времение ответа операттора(предполагаем что данные представленны в хронологическом порядке)\n",
    "sns.barplot(x=data['ind'], y=data['time'])"
   ]
  },
  {
   "cell_type": "markdown",
   "metadata": {},
   "source": [
    "Отвечая на врпрос задачи: мы не можем сказать увеличилось ли время ответа оператора(отсутствуют данные предыдущих наблидений). При этом среднее время ответа оператора: 22,83 секунды."
   ]
  },
  {
   "cell_type": "markdown",
   "metadata": {},
   "source": [
    "### Решение задачи 2 (Задание 1):\n",
    "\n",
    "Для того что-бы найти объем выборки необходимый для построения 95% доверительного интервала\n",
    "воспользуемся формулой для оценки формулы интервальной оценки(предельной ошибки): \n",
    "\n",
    "\\begin{equation*}\n",
    "E = Z_{val}  \\frac{\\sigma }{\\sqrt{n}}\n",
    "\\end{equation*}\n",
    "\n",
    "$ \n",
    "где \\\\\n",
    "Z_{val} - \\text{z-score, z-оценка}\n",
    "\\\\\n",
    "\\sigma - \\text{стандартное (среднеквадратичное) отклонение}\n",
    "\\\\\n",
    "n - \\text{объем выборки}\n",
    "\\\\\n",
    "\\text{}\n",
    "$\n",
    "\n",
    "преобразуем формулу, выразим n:\n",
    "\n",
    "\\begin{equation*}\n",
    "n =  ( \\frac{Z_{val} \\sigma}{ E } )^2   \n",
    "\\end{equation*}\n",
    "\n",
    "$ \n",
    "\\text{В данном случае:}\n",
    "\\\\\n",
    "\\text{E = 2 (точность +/- 2 секунды) }\n",
    "\\\\\n",
    "Z_{val}\\text{ = 1.96 (для заданного доверительного уровня по таблице, в расчетах используем значение из scipy) }\n",
    "\\\\\n",
    "\\text{Найдем стандартное отклонение. Далее, подставив все значения найдем необходимый объем выборки}\n",
    "$\n",
    "\n",
    "\n"
   ]
  },
  {
   "cell_type": "code",
   "execution_count": 5,
   "metadata": {},
   "outputs": [
    {
     "name": "stdout",
     "output_type": "stream",
     "text": [
      "z: 1.9600\n",
      "sd: 6.3670\n",
      "n: 38.9321\n"
     ]
    }
   ],
   "source": [
    "E = 2\n",
    "CONFIDENCE = 0.95\n",
    "\n",
    "#Преобразуем Pandas DataSet -> numpy array\n",
    "np_data = data['time'].to_numpy()\n",
    "\n",
    "#найдем z score\n",
    "z = csipy.stats.norm.ppf( 1- (1-CONFIDENCE)/2 )\n",
    "print(\"z: {:.4f}\".format(z))\n",
    "\n",
    "#Найдем стандартное отклонение (numpy) \n",
    "sd = np_data.std()\n",
    "print(\"sd: {:.4f}\".format(sd))\n",
    "\n",
    "#Найдем значение n\n",
    "n = (z * sd / E)**2\n",
    "print(\"n: {:.4f}\".format(n))\n"
   ]
  },
  {
   "cell_type": "markdown",
   "metadata": {},
   "source": [
    "Округляем n до ближайшего большего, и тогда объем выборки необходимый для построения 95% доверительного интервала будет равен : 39"
   ]
  }
 ],
 "metadata": {
  "kernelspec": {
   "display_name": "Python 3",
   "language": "python",
   "name": "python3"
  },
  "language_info": {
   "codemirror_mode": {
    "name": "ipython",
    "version": 3
   },
   "file_extension": ".py",
   "mimetype": "text/x-python",
   "name": "python",
   "nbconvert_exporter": "python",
   "pygments_lexer": "ipython3",
   "version": "3.7.4"
  }
 },
 "nbformat": 4,
 "nbformat_minor": 2
}
