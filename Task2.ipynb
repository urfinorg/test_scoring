{
 "cells": [
  {
   "cell_type": "markdown",
   "metadata": {},
   "source": [
    "## Задание 2"
   ]
  },
  {
   "cell_type": "code",
   "execution_count": 1,
   "metadata": {},
   "outputs": [
    {
     "data": {
      "text/html": [
       "<div>\n",
       "<style scoped>\n",
       "    .dataframe tbody tr th:only-of-type {\n",
       "        vertical-align: middle;\n",
       "    }\n",
       "\n",
       "    .dataframe tbody tr th {\n",
       "        vertical-align: top;\n",
       "    }\n",
       "\n",
       "    .dataframe thead th {\n",
       "        text-align: right;\n",
       "    }\n",
       "</style>\n",
       "<table border=\"1\" class=\"dataframe\">\n",
       "  <thead>\n",
       "    <tr style=\"text-align: right;\">\n",
       "      <th></th>\n",
       "      <th>m_costs</th>\n",
       "      <th>salary</th>\n",
       "    </tr>\n",
       "  </thead>\n",
       "  <tbody>\n",
       "    <tr>\n",
       "      <th>0</th>\n",
       "      <td>230.1</td>\n",
       "      <td>22.1</td>\n",
       "    </tr>\n",
       "    <tr>\n",
       "      <th>1</th>\n",
       "      <td>44.5</td>\n",
       "      <td>10.4</td>\n",
       "    </tr>\n",
       "    <tr>\n",
       "      <th>2</th>\n",
       "      <td>17.2</td>\n",
       "      <td>9.3</td>\n",
       "    </tr>\n",
       "    <tr>\n",
       "      <th>3</th>\n",
       "      <td>151.5</td>\n",
       "      <td>18.5</td>\n",
       "    </tr>\n",
       "    <tr>\n",
       "      <th>4</th>\n",
       "      <td>180.8</td>\n",
       "      <td>12.9</td>\n",
       "    </tr>\n",
       "  </tbody>\n",
       "</table>\n",
       "</div>"
      ],
      "text/plain": [
       "   m_costs  salary\n",
       "0    230.1    22.1\n",
       "1     44.5    10.4\n",
       "2     17.2     9.3\n",
       "3    151.5    18.5\n",
       "4    180.8    12.9"
      ]
     },
     "execution_count": 1,
     "metadata": {},
     "output_type": "execute_result"
    }
   ],
   "source": [
    "#Подключаем необходимые библиотеки\n",
    "import pandas as pd\n",
    "import numpy as np\n",
    "import seaborn as sns\n",
    "\n",
    "import scipy.stats as stats\n",
    "\n",
    "import matplotlib.pyplot as plt\n",
    "\n",
    "#Загружаем данные, удостоверяемся, что загрузилось верно \n",
    "data = pd.read_csv('part2_data.csv', delimiter=\";\", decimal=',')\n",
    "#data.info()\n",
    "data.head(5)\n",
    "#data.count()"
   ]
  },
  {
   "cell_type": "code",
   "execution_count": 2,
   "metadata": {},
   "outputs": [],
   "source": [
    "#Задача 1:\n",
    "#Постройте линейную регрессионную модель, позволяющую предсказывать объем \n",
    "#продаж в регионе в зависимости от расходов на рекламу. Напишите уравнение регресссии.\n",
    "\n",
    "# При построении модели воспользуесмя МНК (метод наименьших квадратов) решение приведем в векторном виде.\n",
    "# Данный способ построения модели выбран с целью демонстрации, на практике используются соответствующие классы \n",
    "# библиотеки scikit-learn LinearRegression."
   ]
  },
  {
   "cell_type": "markdown",
   "metadata": {},
   "source": [
    "\\begin{equation*}\n",
    "Y = f(x, \\theta) = \\theta_{1}x_{0} + \\theta_{2}x_{1}\n",
    "\\end{equation*}\n",
    "\n",
    "$\n",
    "\\text{ где  } x_{0} = 1 \\text{ тогда } \\\\\n",
    "$\n",
    "\n",
    "\\begin{equation*}\n",
    "Y = f(x, \\theta) = \\theta_{1} + \\theta_{2}x_{1} \\\\\n",
    "\\end{equation*}\n",
    "\n",
    "$\n",
    "\\text{ введем матрицу } A = [[1, x1], \n",
    "                             [1, x2], \n",
    "                             [1, ...],\n",
    "                             [1, xn]]  \\\\\n",
    "$\n",
    "\n",
    "\n",
    "$\n",
    "\\text{ выразим } \\theta \\\\\n",
    "$\n",
    "\n",
    "\\begin{equation*}\n",
    "\\theta = (A^{T}A)^{-1} A^{T} Y \\\\\n",
    "\\end{equation*}\n",
    "\n",
    "$\n",
    "\\text{ где  } (A^{T}A)^{-1} A^{T}  \\text{ - псевдообратная матрица обозначается как } A^{+} \\\\\n",
    "$\n"
   ]
  },
  {
   "cell_type": "code",
   "execution_count": 3,
   "metadata": {},
   "outputs": [
    {
     "name": "stdout",
     "output_type": "stream",
     "text": [
      "theta:  [7.03259355 0.04753664]\n"
     ]
    }
   ],
   "source": [
    "def predict(x, theta):\n",
    "    return theta[0] + theta[1] * x\n",
    "\n",
    "def fit_reg(x, y):\n",
    "    #Создаем матрицу A\n",
    "    A = np.ones((x.shape[0], 2))\n",
    "    A[:, 1] = x    \n",
    "    \n",
    "    #Находим псевдообратную матрицу\n",
    "    a_plus = np.linalg.pinv(A)\n",
    "    \n",
    "    #Находим Тету\n",
    "    theta = a_plus.dot(y)\n",
    "    \n",
    "    return theta , A\n",
    "\n",
    "\n",
    "x = data['m_costs'].to_numpy()\n",
    "y = data['salary'].to_numpy()\n",
    "\n",
    "theta, A  = fit_reg(x, y)\n",
    "print(\"theta: \" , theta)"
   ]
  },
  {
   "cell_type": "code",
   "execution_count": 4,
   "metadata": {},
   "outputs": [
    {
     "data": {
      "text/plain": [
       "<matplotlib.axes._subplots.AxesSubplot at 0x7f1838ac2310>"
      ]
     },
     "execution_count": 4,
     "metadata": {},
     "output_type": "execute_result"
    },
    {
     "data": {
      "image/png": "[encoded data removed]",
      "text/plain": [
       "<Figure size 432x288 with 1 Axes>"
      ]
     },
     "metadata": {
      "needs_background": "light"
     },
     "output_type": "display_data"
    }
   ],
   "source": [
    "#Задача 2: Дайте графическую интерпритацию, полученных результатов \n",
    "#(отобразите на одном графике уравнение регрессии и наблюдения, представленные в наборе данных)\n",
    "\n",
    "#Найдем значения модели на всем диапазоне x  \n",
    "reg_line = predict(x, theta)\n",
    "\n",
    "#print(x.shape)\n",
    "sns.scatterplot(x=x, y=y) \n",
    "sns.lineplot(x=x, y=reg_line, linewidth=3, color='blue')"
   ]
  },
  {
   "cell_type": "code",
   "execution_count": 5,
   "metadata": {},
   "outputs": [
    {
     "name": "stdout",
     "output_type": "stream",
     "text": [
      "Объем продаж при расходах на рекламу в 121 тыс. руб. : 12.78 тыс. шт.\n"
     ]
    }
   ],
   "source": [
    "#Задача 3: Предскажите объем продаж при расходах на рекламу в 121 тыс. руб.\n",
    "sel = predict(121, theta)\n",
    "print(\"Объем продаж при расходах на рекламу в 121 тыс. руб. : {:.2f} тыс. шт.\".format(sel))"
   ]
  },
  {
   "cell_type": "code",
   "execution_count": 6,
   "metadata": {},
   "outputs": [
    {
     "name": "stdout",
     "output_type": "stream",
     "text": [
      "Коэффициенты регрессии a: 0.0475   b: 7.0326\n",
      "средняя ошибка прогноза (модели) s2e: 10.618841 \n",
      "********\n",
      "t_a: 17.667626\n",
      "t_b: 15.360275\n",
      "t_crit: 2.345328\n",
      "коэффициент _a_ значим\n",
      "коэффициент _b_ значим\n"
     ]
    }
   ],
   "source": [
    "#Задача 4: Сделайте вывод о статистической значимости коэффициентов линейной регрессии\n",
    "\n",
    "# y = ax + b\n",
    "a, b = theta[1], theta[0]\n",
    "print(\"Коэффициенты регрессии a: {:.4f}   b: {:.4f}\".format(a,b))\n",
    "\n",
    "# прогноз модели\n",
    "y_pred = predict(x, theta) \n",
    "\n",
    "# количество наблюдений \n",
    "n = x.shape[0]\n",
    "# количество факторов\n",
    "m = 1\n",
    "\n",
    "# средняя ошибка прогноза (модели)\n",
    "s2e =  (np.sum( (y - y_pred)**2 ) )/(n - m -1)\n",
    "\n",
    "print(\"средняя ошибка прогноза (модели) s2e: %f \"% s2e)\n",
    "\n",
    "# Найдем эмперический(экспериментальный) критей Стьюдента модели\n",
    "s_a = np.sqrt( (s2e) / ( np.sum( (x - x.mean())**2  ) ) )\n",
    "s_b = np.sqrt( (s2e * np.sum( x**2 )) / (n * np.sum( (x - x.mean())**2 ) ) )\n",
    "\n",
    "# print(\"s_a: %f \" %s_a)\n",
    "# print(\"s_b: %f \" %s_b)\n",
    "\n",
    "t_a = a / s_a\n",
    "t_b = b / s_b\n",
    "print(\"********\" )\n",
    "\n",
    "print(\"t_a: %f\"% t_a)\n",
    "print(\"t_b: %f\"% t_b)\n",
    "\n",
    "# критей Стьюдента для оценки значимости коэффициентов модели для 99% доверительного интервала\n",
    "t_crit = stats.t.ppf(0.99, n-2)\n",
    "print(\"t_crit: %f\"% t_crit)\n",
    "\n",
    "# Оценка значимости коэффициентов модели производится с помощью критерия Стьюдента\n",
    "# Если t_a, t_b > t_crit параметры значимы\n",
    "\n",
    "if t_a > t_crit: print(\"коэффициент _a_ значим\")\n",
    "else: (\"коэффициент _a_ не значим\")\n",
    "if t_b > t_crit: print(\"коэффициент _b_ значим\")\n",
    "else: (\"коэффициент _b_ не значим\")"
   ]
  }
 ],
 "metadata": {
  "kernelspec": {
   "display_name": "Python 3",
   "language": "python",
   "name": "python3"
  },
  "language_info": {
   "codemirror_mode": {
    "name": "ipython",
    "version": 3
   },
   "file_extension": ".py",
   "mimetype": "text/x-python",
   "name": "python",
   "nbconvert_exporter": "python",
   "pygments_lexer": "ipython3",
   "version": "3.7.4"
  }
 },
 "nbformat": 4,
 "nbformat_minor": 2
}
