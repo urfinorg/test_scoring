{
 "cells": [
  {
   "cell_type": "markdown",
   "metadata": {},
   "source": [
    "## Задание 4"
   ]
  },
  {
   "cell_type": "markdown",
   "metadata": {},
   "source": [
    "Напишите следующие SQL-запросы:"
   ]
  },
  {
   "cell_type": "raw",
   "metadata": {},
   "source": [
    "# Задание 1\n",
    "\n",
    "# Вывести список сотрудников, получающих заработную плату выше 50 000.\n",
    "# Формат вывода - список ID\n",
    "\n",
    "SELECT emp.id AS emp_id FROM employee emp WHERE emp.salery > 50000"
   ]
  },
  {
   "cell_type": "raw",
   "metadata": {},
   "source": [
    "# Задание 2\n",
    "\n",
    "# Вывести названия всех отделов с количеством сотрудников более 5 и \n",
    "# количество сотрудников в этих отделах (Поля вывода: Название отдела, количество сотрудников)\n",
    "\n",
    "SELECT dep.name AS dep_name , t2.e_count \n",
    "FROM employee emp \n",
    "    JOIN (\n",
    "          SELECT COUNT(*) AS e_count, department_id\n",
    "          FROM employee\n",
    "          GROUP BY department_id\n",
    "          HAVING COUNT(*) > 1\n",
    "         ) t2 ON emp.department_id = t2.department_id \n",
    "  JOIN department dep ON emp.department_id = dep.id\n",
    "  GROUP BY emp.department_id, dep.name, t2.e_count\n"
   ]
  },
  {
   "cell_type": "raw",
   "metadata": {},
   "source": [
    "# Задание 3\n",
    "\n",
    "# Вывести список сотрудников с минимальной заработной платой в своих отделах в формате ID, ФИО, Название отдела\n",
    "\n",
    "SELECT emp.id AS emp_id , emp.name AS emp_name, dep.name AS dep_name  \n",
    "FROM employee emp \n",
    "    JOIN (\n",
    "          SELECT MIN(salery) AS min, department_id\n",
    "          FROM employee\n",
    "          GROUP BY department_id\n",
    "         ) t2 ON emp.department_id = t2.department_id AND emp.salery = t2.min\n",
    "  JOIN department dep ON emp.department_id = dep.id\n"
   ]
  }
 ],
 "metadata": {
  "kernelspec": {
   "display_name": "Python 3",
   "language": "python",
   "name": "python3"
  },
  "language_info": {
   "codemirror_mode": {
    "name": "ipython",
    "version": 3
   },
   "file_extension": ".py",
   "mimetype": "text/x-python",
   "name": "python",
   "nbconvert_exporter": "python",
   "pygments_lexer": "ipython3",
   "version": "3.7.4"
  }
 },
 "nbformat": 4,
 "nbformat_minor": 2
}
